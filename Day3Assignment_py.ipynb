{
  "nbformat": 4,
  "nbformat_minor": 0,
  "metadata": {
    "colab": {
      "name": "Day3Assignment.py",
      "provenance": [],
      "collapsed_sections": [],
      "authorship_tag": "ABX9TyNCfpos+WyYnmMcKdviuzSU",
      "include_colab_link": true
    },
    "kernelspec": {
      "name": "python3",
      "display_name": "Python 3"
    }
  },
  "cells": [
    {
      "cell_type": "markdown",
      "metadata": {
        "id": "view-in-github",
        "colab_type": "text"
      },
      "source": [
        "<a href=\"https://colab.research.google.com/github/TharunKoti/Python_ES_B6/blob/master/Day3Assignment_py.ipynb\" target=\"_parent\"><img src=\"https://colab.research.google.com/assets/colab-badge.svg\" alt=\"Open In Colab\"/></a>"
      ]
    },
    {
      "cell_type": "code",
      "metadata": {
        "id": "50eU5Fi0Ytp5",
        "colab_type": "code",
        "colab": {
          "base_uri": "https://localhost:8080/",
          "height": 189
        },
        "outputId": "15e0386d-7092-4830-be0a-08a23ea0162c"
      },
      "source": [
        "sum=0\n",
        "num=1\n",
        "while num < 11:\n",
        "    sum=sum+num\n",
        "    print(sum)\n",
        "    num=num+1"
      ],
      "execution_count": 1,
      "outputs": [
        {
          "output_type": "stream",
          "text": [
            "1\n",
            "3\n",
            "6\n",
            "10\n",
            "15\n",
            "21\n",
            "28\n",
            "36\n",
            "45\n",
            "55\n"
          ],
          "name": "stdout"
        }
      ]
    },
    {
      "cell_type": "code",
      "metadata": {
        "id": "WBT5qSZmcQlX",
        "colab_type": "code",
        "colab": {
          "base_uri": "https://localhost:8080/",
          "height": 51
        },
        "outputId": "ec3d00fa-4d9d-4af6-a09e-24ab8abb32ef"
      },
      "source": [
        " \n",
        "num=int(input('enter the number: '))\n",
        "if num > 1:\n",
        "    for i in range(2,num):\n",
        "        if (num%i)==0:\n",
        "            print(f'{num} is not a prime number')\n",
        "            break\n",
        "        else:\n",
        "            print(f'{num} is a prime number')\n",
        "            break\n",
        "else:\n",
        "    print(f'{num} is not a prime number')"
      ],
      "execution_count": 10,
      "outputs": [
        {
          "output_type": "stream",
          "text": [
            "enter the number: 10\n",
            "10 is not a prime number\n"
          ],
          "name": "stdout"
        }
      ]
    }
  ]
}